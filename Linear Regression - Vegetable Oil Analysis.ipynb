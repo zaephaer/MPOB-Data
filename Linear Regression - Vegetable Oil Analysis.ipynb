{
 "cells": [
  {
   "cell_type": "markdown",
   "metadata": {},
   "source": [
    "# Linear Regression: Vegetable Oil Analysis"
   ]
  },
  {
   "cell_type": "code",
   "execution_count": 1,
   "metadata": {},
   "outputs": [
    {
     "name": "stdout",
     "output_type": "stream",
     "text": [
      "(156, 10)\n"
     ]
    },
    {
     "data": {
      "text/html": [
       "<div>\n",
       "<style scoped>\n",
       "    .dataframe tbody tr th:only-of-type {\n",
       "        vertical-align: middle;\n",
       "    }\n",
       "\n",
       "    .dataframe tbody tr th {\n",
       "        vertical-align: top;\n",
       "    }\n",
       "\n",
       "    .dataframe thead th {\n",
       "        text-align: right;\n",
       "    }\n",
       "</style>\n",
       "<table border=\"1\" class=\"dataframe\">\n",
       "  <thead>\n",
       "    <tr style=\"text-align: right;\">\n",
       "      <th></th>\n",
       "      <th>MonthYear</th>\n",
       "      <th>CrudePalmOil</th>\n",
       "      <th>SoyabeanOil</th>\n",
       "      <th>GroundnutOil</th>\n",
       "      <th>SunflowerOil</th>\n",
       "      <th>RapeseedOil</th>\n",
       "      <th>CoconutOil</th>\n",
       "      <th>FishOil</th>\n",
       "      <th>Tallow</th>\n",
       "      <th>Lard</th>\n",
       "    </tr>\n",
       "  </thead>\n",
       "  <tbody>\n",
       "    <tr>\n",
       "      <th>0</th>\n",
       "      <td>1/1/2006</td>\n",
       "      <td>424</td>\n",
       "      <td>532</td>\n",
       "      <td>930</td>\n",
       "      <td>591</td>\n",
       "      <td>733</td>\n",
       "      <td>569</td>\n",
       "      <td>750</td>\n",
       "      <td>445</td>\n",
       "      <td>407</td>\n",
       "    </tr>\n",
       "    <tr>\n",
       "      <th>1</th>\n",
       "      <td>2/1/2006</td>\n",
       "      <td>445</td>\n",
       "      <td>535</td>\n",
       "      <td>921</td>\n",
       "      <td>595</td>\n",
       "      <td>723</td>\n",
       "      <td>591</td>\n",
       "      <td>761</td>\n",
       "      <td>430</td>\n",
       "      <td>405</td>\n",
       "    </tr>\n",
       "    <tr>\n",
       "      <th>2</th>\n",
       "      <td>3/1/2006</td>\n",
       "      <td>440</td>\n",
       "      <td>539</td>\n",
       "      <td>902</td>\n",
       "      <td>606</td>\n",
       "      <td>742</td>\n",
       "      <td>575</td>\n",
       "      <td>807</td>\n",
       "      <td>410</td>\n",
       "      <td>431</td>\n",
       "    </tr>\n",
       "    <tr>\n",
       "      <th>3</th>\n",
       "      <td>4/1/2006</td>\n",
       "      <td>439</td>\n",
       "      <td>540</td>\n",
       "      <td>899</td>\n",
       "      <td>659</td>\n",
       "      <td>796</td>\n",
       "      <td>578</td>\n",
       "      <td>840</td>\n",
       "      <td>394</td>\n",
       "      <td>437</td>\n",
       "    </tr>\n",
       "    <tr>\n",
       "      <th>4</th>\n",
       "      <td>5/1/2006</td>\n",
       "      <td>440</td>\n",
       "      <td>588</td>\n",
       "      <td>892</td>\n",
       "      <td>679</td>\n",
       "      <td>838</td>\n",
       "      <td>583</td>\n",
       "      <td>841</td>\n",
       "      <td>408</td>\n",
       "      <td>447</td>\n",
       "    </tr>\n",
       "  </tbody>\n",
       "</table>\n",
       "</div>"
      ],
      "text/plain": [
       "  MonthYear  CrudePalmOil  SoyabeanOil  GroundnutOil  SunflowerOil  \\\n",
       "0  1/1/2006           424          532           930           591   \n",
       "1  2/1/2006           445          535           921           595   \n",
       "2  3/1/2006           440          539           902           606   \n",
       "3  4/1/2006           439          540           899           659   \n",
       "4  5/1/2006           440          588           892           679   \n",
       "\n",
       "   RapeseedOil  CoconutOil  FishOil  Tallow  Lard  \n",
       "0          733         569      750     445   407  \n",
       "1          723         591      761     430   405  \n",
       "2          742         575      807     410   431  \n",
       "3          796         578      840     394   437  \n",
       "4          838         583      841     408   447  "
      ]
     },
     "execution_count": 1,
     "metadata": {},
     "output_type": "execute_result"
    }
   ],
   "source": [
    "%matplotlib inline\n",
    "import numpy as np\n",
    "import pandas as pd\n",
    "import matplotlib.pyplot as plt\n",
    "plt.rcParams['figure.figsize'] = (20.0, 10.0)\n",
    "\n",
    "# Reading Data\n",
    "data = pd.read_csv(\"../Vegetable Oil Analysis/MPOB_data2.csv\")\n",
    "print(data.shape)\n",
    "data.head()"
   ]
  },
  {
   "cell_type": "code",
   "execution_count": 2,
   "metadata": {},
   "outputs": [
    {
     "data": {
      "text/plain": [
       "MonthYear       object\n",
       "CrudePalmOil     int64\n",
       "SoyabeanOil      int64\n",
       "GroundnutOil     int64\n",
       "SunflowerOil     int64\n",
       "RapeseedOil      int64\n",
       "CoconutOil       int64\n",
       "FishOil          int64\n",
       "Tallow           int64\n",
       "Lard             int64\n",
       "dtype: object"
      ]
     },
     "execution_count": 2,
     "metadata": {},
     "output_type": "execute_result"
    }
   ],
   "source": [
    "data.dtypes"
   ]
  },
  {
   "cell_type": "code",
   "execution_count": 3,
   "metadata": {},
   "outputs": [
    {
     "data": {
      "text/plain": [
       "MonthYear       datetime64[ns]\n",
       "CrudePalmOil             int64\n",
       "SoyabeanOil              int64\n",
       "GroundnutOil             int64\n",
       "SunflowerOil             int64\n",
       "RapeseedOil              int64\n",
       "CoconutOil               int64\n",
       "FishOil                  int64\n",
       "Tallow                   int64\n",
       "Lard                     int64\n",
       "dtype: object"
      ]
     },
     "execution_count": 3,
     "metadata": {},
     "output_type": "execute_result"
    }
   ],
   "source": [
    "data['MonthYear'] = pd.DatetimeIndex(data['MonthYear'])\n",
    "data.dtypes"
   ]
  },
  {
   "cell_type": "code",
   "execution_count": 4,
   "metadata": {},
   "outputs": [
    {
     "data": {
      "image/png": "[encoded data removed]",
      "text/plain": [
       "<matplotlib.figure.Figure at 0x1f03034fac8>"
      ]
     },
     "metadata": {},
     "output_type": "display_data"
    }
   ],
   "source": [
    "import seaborn as sns\n",
    "plt.figure(figsize=(16,12))\n",
    "sns.heatmap(data=data.iloc[:,1:].corr(),annot=True,fmt='.2f',cmap='coolwarm')\n",
    "plt.savefig(\"Correlation\")\n",
    "plt.show()"
   ]
  },
  {
   "cell_type": "code",
   "execution_count": 5,
   "metadata": {},
   "outputs": [
    {
     "name": "stdout",
     "output_type": "stream",
     "text": [
      "[ 532  535  539  540  588  601  630  629  602  615  675  699  697  714\n",
      "  718  761  788  831  885  909  959 1012 1139 1164 1276 1426 1476 1425\n",
      " 1436 1537 1511 1323 1226  928  824  738  791  748  727  800  892  896\n",
      "  836  886  846  897  931  933  924  915  920  902  865  859  907 1002\n",
      " 1042 1154 1141 1232 1374 1365 1307 1314 1294 1324 1337 1330 1309 1220\n",
      " 1217 1203 1218 1255 1287 1310 1218 1178 1239 1249 1288 1175 1140 1163\n",
      " 1190 1175 1116 1095 1074 1043  995  997 1024  987  996  989  943  983\n",
      " 1002  999  966  936  888  857  851  835  830  820  799  773  748  749\n",
      "  781  793  753  730  727  742  726  761  726  758  761  796  791  798\n",
      "  789  814  829  858  880  907  872  835  813  790  827  827  834  855\n",
      "  883  867  881  866  864  842  834  827  793  786  775  766  757    0\n",
      "    0    0]\n"
     ]
    }
   ],
   "source": [
    "X = data['SoyabeanOil'].values\n",
    "print(X)"
   ]
  },
  {
   "cell_type": "code",
   "execution_count": 6,
   "metadata": {},
   "outputs": [
    {
     "name": "stdout",
     "output_type": "stream",
     "text": [
      "[ 424  445  440  439  440  437  471  510  497  507  547  583  599  605\n",
      "  622  710  772  807  811  821  835  881  952  950 1059 1178 1249 1174\n",
      " 1208 1213 1128  884  771  545  488  503  562  572  598  700  801  726\n",
      "  639  723  674  680  725  791  795  798  832  830  811  798  807  905\n",
      "  912  984 1109 1229 1281 1292 1180 1149 1159 1133 1088 1083 1068  994\n",
      " 1053 1026 1061 1106 1152 1181 1085  998 1015  995  973  839  823  776\n",
      "  841  863  854  842  849  861  833  828  820  859  921  912  865  906\n",
      "  961  911  894  858  841  766  709  722  731  693  685  689  672  662\n",
      "  658  671  636  551  538  584  558  568  565  640  686  722  706  683\n",
      "  651  736  756  716  751  788  809  774  736  685  727  677  663  674\n",
      "  724  721  716  672  677  663  681  664  660  634  590  561  551    0\n",
      "    0    0]\n"
     ]
    }
   ],
   "source": [
    "Y = data['CrudePalmOil'].values\n",
    "print(Y)"
   ]
  },
  {
   "cell_type": "code",
   "execution_count": 7,
   "metadata": {},
   "outputs": [
    {
     "name": "stdout",
     "output_type": "stream",
     "text": [
      "0.8352398790103015 1.0182196549235414\n"
     ]
    }
   ],
   "source": [
    "mean_x = np.mean(X)\n",
    "mean_y = np.mean(Y)\n",
    "\n",
    "m = len(X)\n",
    "\n",
    "numer = 0\n",
    "denom = 0\n",
    "for i in range(m):\n",
    "    numer += (X[i] - mean_x) * (Y[i] - mean_y)\n",
    "    denom += (X[i] - mean_x) ** 2\n",
    "b1 = numer / denom\n",
    "b0 = mean_y - (b1 * mean_x)\n",
    "\n",
    "print(b1, b0)"
   ]
  },
  {
   "cell_type": "markdown",
   "metadata": {},
   "source": [
    "There we have our coefficients.\n",
    "\n",
    "CrudePalmOil = 1.0182196549235414 + 0.8352398790103015 * SoyabeanOil\n",
    "\n",
    "That is our linear model.\n",
    "  \n",
    "\n",
    "Now we will see this graphically."
   ]
  },
  {
   "cell_type": "code",
   "execution_count": 8,
   "metadata": {},
   "outputs": [
    {
     "data": {
      "image/png": "[encoded data removed]",
      "text/plain": [
       "<matplotlib.figure.Figure at 0x1f03111f208>"
      ]
     },
     "metadata": {},
     "output_type": "display_data"
    }
   ],
   "source": [
    "# Plotting Values and Regression Line\n",
    "\n",
    "max_x = np.max(X) + 100\n",
    "min_x = np.min(X) - 100\n",
    "\n",
    "# Calculating line values x and y\n",
    "x = np.linspace(min_x, max_x, 1000)\n",
    "y = b0 + b1 * x\n",
    "\n",
    "# Ploting Line\n",
    "plt.plot(x, y, color='#58b970', label='Regression Line')\n",
    "# Ploting Scatter Points\n",
    "plt.scatter(X, Y, c='#ef5423', label='Scatter Plot')\n",
    "\n",
    "plt.xlabel('CrudePalmOil')\n",
    "plt.ylabel('SoyabeanOil')\n",
    "plt.savefig(\"CrudePalmOil vs SoyabeanOil\")\n",
    "plt.legend()\n",
    "plt.show()"
   ]
  },
  {
   "cell_type": "markdown",
   "metadata": {},
   "source": [
    "R2 Score usually range from 0 to 1. It will also become negative if the model is completely wrong. Now we will find R^2R2 Score. \n",
    "In general, the higher the R-squared, the better the model fits your data.\n",
    "\n",
    "Coefficient of Determination (R^2) → It is a measure of how variance in y is explained by the regression model. Often if a model traces close to the actual values then Coefficient of Determination is high (0.85– ~0.9999) else the model needs to be improved upon. Below picture will help in understanding the case."
   ]
  },
  {
   "cell_type": "code",
   "execution_count": 9,
   "metadata": {},
   "outputs": [
    {
     "name": "stdout",
     "output_type": "stream",
     "text": [
      "72.43293517595194\n",
      "0.9008404452506218\n"
     ]
    }
   ],
   "source": [
    "from sklearn.linear_model import LinearRegression\n",
    "from sklearn.metrics import mean_squared_error\n",
    "\n",
    "X = X.reshape((m, 1))\n",
    "reg = LinearRegression()\n",
    "reg = reg.fit(X, Y)\n",
    "Y_pred = reg.predict(X)\n",
    "\n",
    "mse = mean_squared_error(Y, Y_pred)\n",
    "rmse = np.sqrt(mse)\n",
    "r2_score = reg.score(X, Y)\n",
    "\n",
    "print(np.sqrt(mse))\n",
    "print(r2_score)"
   ]
  },
  {
   "cell_type": "markdown",
   "metadata": {},
   "source": [
    "Test prediction"
   ]
  },
  {
   "cell_type": "code",
   "execution_count": 10,
   "metadata": {},
   "outputs": [
    {
     "name": "stdout",
     "output_type": "stream",
     "text": [
      "[445.36583529]\n"
     ]
    }
   ],
   "source": [
    "Y_pred = reg.predict(532)\n",
    "print(Y_pred)"
   ]
  },
  {
   "cell_type": "code",
   "execution_count": 11,
   "metadata": {},
   "outputs": [
    {
     "data": {
      "text/html": [
       "<div>\n",
       "<style scoped>\n",
       "    .dataframe tbody tr th:only-of-type {\n",
       "        vertical-align: middle;\n",
       "    }\n",
       "\n",
       "    .dataframe tbody tr th {\n",
       "        vertical-align: top;\n",
       "    }\n",
       "\n",
       "    .dataframe thead th {\n",
       "        text-align: right;\n",
       "    }\n",
       "</style>\n",
       "<table border=\"1\" class=\"dataframe\">\n",
       "  <thead>\n",
       "    <tr style=\"text-align: right;\">\n",
       "      <th></th>\n",
       "      <th>MonthYear</th>\n",
       "      <th>CrudePalmOil</th>\n",
       "      <th>SoyabeanOil</th>\n",
       "      <th>GroundnutOil</th>\n",
       "      <th>SunflowerOil</th>\n",
       "      <th>RapeseedOil</th>\n",
       "      <th>CoconutOil</th>\n",
       "      <th>FishOil</th>\n",
       "      <th>Tallow</th>\n",
       "      <th>Lard</th>\n",
       "    </tr>\n",
       "  </thead>\n",
       "  <tbody>\n",
       "    <tr>\n",
       "      <th>0</th>\n",
       "      <td>2006-01-01</td>\n",
       "      <td>424</td>\n",
       "      <td>532</td>\n",
       "      <td>930</td>\n",
       "      <td>591</td>\n",
       "      <td>733</td>\n",
       "      <td>569</td>\n",
       "      <td>750</td>\n",
       "      <td>445</td>\n",
       "      <td>407</td>\n",
       "    </tr>\n",
       "    <tr>\n",
       "      <th>1</th>\n",
       "      <td>2006-02-01</td>\n",
       "      <td>445</td>\n",
       "      <td>535</td>\n",
       "      <td>921</td>\n",
       "      <td>595</td>\n",
       "      <td>723</td>\n",
       "      <td>591</td>\n",
       "      <td>761</td>\n",
       "      <td>430</td>\n",
       "      <td>405</td>\n",
       "    </tr>\n",
       "    <tr>\n",
       "      <th>2</th>\n",
       "      <td>2006-03-01</td>\n",
       "      <td>440</td>\n",
       "      <td>539</td>\n",
       "      <td>902</td>\n",
       "      <td>606</td>\n",
       "      <td>742</td>\n",
       "      <td>575</td>\n",
       "      <td>807</td>\n",
       "      <td>410</td>\n",
       "      <td>431</td>\n",
       "    </tr>\n",
       "    <tr>\n",
       "      <th>3</th>\n",
       "      <td>2006-04-01</td>\n",
       "      <td>439</td>\n",
       "      <td>540</td>\n",
       "      <td>899</td>\n",
       "      <td>659</td>\n",
       "      <td>796</td>\n",
       "      <td>578</td>\n",
       "      <td>840</td>\n",
       "      <td>394</td>\n",
       "      <td>437</td>\n",
       "    </tr>\n",
       "    <tr>\n",
       "      <th>4</th>\n",
       "      <td>2006-05-01</td>\n",
       "      <td>440</td>\n",
       "      <td>588</td>\n",
       "      <td>892</td>\n",
       "      <td>679</td>\n",
       "      <td>838</td>\n",
       "      <td>583</td>\n",
       "      <td>841</td>\n",
       "      <td>408</td>\n",
       "      <td>447</td>\n",
       "    </tr>\n",
       "  </tbody>\n",
       "</table>\n",
       "</div>"
      ],
      "text/plain": [
       "   MonthYear  CrudePalmOil  SoyabeanOil  GroundnutOil  SunflowerOil  \\\n",
       "0 2006-01-01           424          532           930           591   \n",
       "1 2006-02-01           445          535           921           595   \n",
       "2 2006-03-01           440          539           902           606   \n",
       "3 2006-04-01           439          540           899           659   \n",
       "4 2006-05-01           440          588           892           679   \n",
       "\n",
       "   RapeseedOil  CoconutOil  FishOil  Tallow  Lard  \n",
       "0          733         569      750     445   407  \n",
       "1          723         591      761     430   405  \n",
       "2          742         575      807     410   431  \n",
       "3          796         578      840     394   437  \n",
       "4          838         583      841     408   447  "
      ]
     },
     "execution_count": 11,
     "metadata": {},
     "output_type": "execute_result"
    }
   ],
   "source": [
    "data.head()"
   ]
  },
  {
   "cell_type": "code",
   "execution_count": null,
   "metadata": {},
   "outputs": [],
   "source": []
  }
 ],
 "metadata": {
  "kernelspec": {
   "display_name": "Python 3",
   "language": "python",
   "name": "python3"
  },
  "language_info": {
   "codemirror_mode": {
    "name": "ipython",
    "version": 3
   },
   "file_extension": ".py",
   "mimetype": "text/x-python",
   "name": "python",
   "nbconvert_exporter": "python",
   "pygments_lexer": "ipython3",
   "version": "3.6.5"
  }
 },
 "nbformat": 4,
 "nbformat_minor": 2
}
